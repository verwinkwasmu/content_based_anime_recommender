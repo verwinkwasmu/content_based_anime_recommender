{
 "cells": [
  {
   "cell_type": "markdown",
   "metadata": {},
   "source": [
    "### Content-Based recommender system for Anime Series"
   ]
  },
  {
   "cell_type": "markdown",
   "metadata": {},
   "source": [
    "This recommender is created from content in the imdb sites for top anime series. Source: (https://www.imdb.com/search/keyword/?keywords=anime&mode=advanced&page=1&ref_=kw_nxt&sort=moviemeter,asc)\n",
    "    \n",
    "The metadata includes title, rank, score, synopsis and genre.\n",
    "\n",
    "The web scraping python script is created in order to produce the relevant excel sheet."
   ]
  },
  {
   "cell_type": "markdown",
   "metadata": {},
   "source": [
    "### Import relevant packages and tools"
   ]
  },
  {
   "cell_type": "code",
   "execution_count": 192,
   "metadata": {},
   "outputs": [],
   "source": [
    "import pandas as pd\n",
    "from rake_nltk import Rake\n",
    "import numpy as np\n",
    "from sklearn.metrics.pairwise import cosine_similarity\n",
    "from sklearn.feature_extraction.text import CountVectorizer"
   ]
  },
  {
   "cell_type": "markdown",
   "metadata": {},
   "source": [
    "### Step 1: import data and analyse its content"
   ]
  },
  {
   "cell_type": "code",
   "execution_count": 193,
   "metadata": {},
   "outputs": [
    {
     "data": {
      "text/html": [
       "<div>\n",
       "<style scoped>\n",
       "    .dataframe tbody tr th:only-of-type {\n",
       "        vertical-align: middle;\n",
       "    }\n",
       "\n",
       "    .dataframe tbody tr th {\n",
       "        vertical-align: top;\n",
       "    }\n",
       "\n",
       "    .dataframe thead th {\n",
       "        text-align: right;\n",
       "    }\n",
       "</style>\n",
       "<table border=\"1\" class=\"dataframe\">\n",
       "  <thead>\n",
       "    <tr style=\"text-align: right;\">\n",
       "      <th></th>\n",
       "      <th>Rank</th>\n",
       "      <th>Score</th>\n",
       "      <th>Title</th>\n",
       "      <th>Genre</th>\n",
       "      <th>Synopsis</th>\n",
       "    </tr>\n",
       "  </thead>\n",
       "  <tbody>\n",
       "    <tr>\n",
       "      <th>0</th>\n",
       "      <td>1</td>\n",
       "      <td>9.3</td>\n",
       "      <td>Avatar: The Last Airbender</td>\n",
       "      <td>Animation, Action, Adventure</td>\n",
       "      <td>In a war-torn world of elemental magic, a youn...</td>\n",
       "    </tr>\n",
       "    <tr>\n",
       "      <th>1</th>\n",
       "      <td>2</td>\n",
       "      <td>9.3</td>\n",
       "      <td>Gintama: The Final</td>\n",
       "      <td>Animation, Action, Comedy</td>\n",
       "      <td>Add a Plot</td>\n",
       "    </tr>\n",
       "    <tr>\n",
       "      <th>2</th>\n",
       "      <td>3</td>\n",
       "      <td>9.3</td>\n",
       "      <td>Chris Chan: A Comprehensive History</td>\n",
       "      <td>Documentary, Biography, History</td>\n",
       "      <td>A documentary series about Sonichu creator and...</td>\n",
       "    </tr>\n",
       "    <tr>\n",
       "      <th>3</th>\n",
       "      <td>4</td>\n",
       "      <td>9.2</td>\n",
       "      <td>Gintama: The Semi-Final</td>\n",
       "      <td>Animation, Action, Comedy</td>\n",
       "      <td>A quick look at everyone in Gintama before the...</td>\n",
       "    </tr>\n",
       "    <tr>\n",
       "      <th>4</th>\n",
       "      <td>5</td>\n",
       "      <td>9.1</td>\n",
       "      <td>Hagane no renkinjutsushi</td>\n",
       "      <td>Animation, Action, Adventure</td>\n",
       "      <td>Two brothers search for a Philosopher's Stone ...</td>\n",
       "    </tr>\n",
       "  </tbody>\n",
       "</table>\n",
       "</div>"
      ],
      "text/plain": [
       "   Rank  Score                                Title  \\\n",
       "0     1    9.3           Avatar: The Last Airbender   \n",
       "1     2    9.3                   Gintama: The Final   \n",
       "2     3    9.3  Chris Chan: A Comprehensive History   \n",
       "3     4    9.2              Gintama: The Semi-Final   \n",
       "4     5    9.1             Hagane no renkinjutsushi   \n",
       "\n",
       "                             Genre  \\\n",
       "0     Animation, Action, Adventure   \n",
       "1        Animation, Action, Comedy   \n",
       "2  Documentary, Biography, History   \n",
       "3        Animation, Action, Comedy   \n",
       "4     Animation, Action, Adventure   \n",
       "\n",
       "                                            Synopsis  \n",
       "0  In a war-torn world of elemental magic, a youn...  \n",
       "1                                         Add a Plot  \n",
       "2  A documentary series about Sonichu creator and...  \n",
       "3  A quick look at everyone in Gintama before the...  \n",
       "4  Two brothers search for a Philosopher's Stone ...  "
      ]
     },
     "execution_count": 193,
     "metadata": {},
     "output_type": "execute_result"
    }
   ],
   "source": [
    "df = pd.read_csv('animeRatings.csv')\n",
    "df.head()"
   ]
  },
  {
   "cell_type": "code",
   "execution_count": 194,
   "metadata": {},
   "outputs": [
    {
     "data": {
      "text/html": [
       "<div>\n",
       "<style scoped>\n",
       "    .dataframe tbody tr th:only-of-type {\n",
       "        vertical-align: middle;\n",
       "    }\n",
       "\n",
       "    .dataframe tbody tr th {\n",
       "        vertical-align: top;\n",
       "    }\n",
       "\n",
       "    .dataframe thead th {\n",
       "        text-align: right;\n",
       "    }\n",
       "</style>\n",
       "<table border=\"1\" class=\"dataframe\">\n",
       "  <thead>\n",
       "    <tr style=\"text-align: right;\">\n",
       "      <th></th>\n",
       "      <th>Rank</th>\n",
       "      <th>Score</th>\n",
       "      <th>Title</th>\n",
       "      <th>Genre</th>\n",
       "      <th>Synopsis</th>\n",
       "    </tr>\n",
       "  </thead>\n",
       "  <tbody>\n",
       "    <tr>\n",
       "      <th>195</th>\n",
       "      <td>196</td>\n",
       "      <td>8.3</td>\n",
       "      <td>Berusaiyu no bara</td>\n",
       "      <td>Animation, Drama, Romance</td>\n",
       "      <td>The story of Lady Oscar, a female military com...</td>\n",
       "    </tr>\n",
       "    <tr>\n",
       "      <th>196</th>\n",
       "      <td>197</td>\n",
       "      <td>8.3</td>\n",
       "      <td>UFO robo: Gurendaizâ</td>\n",
       "      <td>Animation, Action, Romance</td>\n",
       "      <td>Escaping from Vega's evil forces, the young Pr...</td>\n",
       "    </tr>\n",
       "    <tr>\n",
       "      <th>197</th>\n",
       "      <td>198</td>\n",
       "      <td>8.3</td>\n",
       "      <td>Hikaru no go</td>\n",
       "      <td>Animation, Fantasy, Sport</td>\n",
       "      <td>A shounen style anime based around the Japanes...</td>\n",
       "    </tr>\n",
       "    <tr>\n",
       "      <th>198</th>\n",
       "      <td>199</td>\n",
       "      <td>8.3</td>\n",
       "      <td>Hajime no ippo - Champion road</td>\n",
       "      <td>Animation, Action, Comedy</td>\n",
       "      <td>As the new Champion, Ippo now must protect his...</td>\n",
       "    </tr>\n",
       "    <tr>\n",
       "      <th>199</th>\n",
       "      <td>200</td>\n",
       "      <td>8.3</td>\n",
       "      <td>Kôkaku kidôtai: Stand alone complex - The laug...</td>\n",
       "      <td>Animation, Action, Drama</td>\n",
       "      <td>A compilation movie featuring scenes from Ghos...</td>\n",
       "    </tr>\n",
       "  </tbody>\n",
       "</table>\n",
       "</div>"
      ],
      "text/plain": [
       "     Rank  Score                                              Title  \\\n",
       "195   196    8.3                                  Berusaiyu no bara   \n",
       "196   197    8.3                               UFO robo: Gurendaizâ   \n",
       "197   198    8.3                                       Hikaru no go   \n",
       "198   199    8.3                     Hajime no ippo - Champion road   \n",
       "199   200    8.3  Kôkaku kidôtai: Stand alone complex - The laug...   \n",
       "\n",
       "                          Genre  \\\n",
       "195   Animation, Drama, Romance   \n",
       "196  Animation, Action, Romance   \n",
       "197   Animation, Fantasy, Sport   \n",
       "198   Animation, Action, Comedy   \n",
       "199    Animation, Action, Drama   \n",
       "\n",
       "                                              Synopsis  \n",
       "195  The story of Lady Oscar, a female military com...  \n",
       "196  Escaping from Vega's evil forces, the young Pr...  \n",
       "197  A shounen style anime based around the Japanes...  \n",
       "198  As the new Champion, Ippo now must protect his...  \n",
       "199  A compilation movie featuring scenes from Ghos...  "
      ]
     },
     "execution_count": 194,
     "metadata": {},
     "output_type": "execute_result"
    }
   ],
   "source": [
    "df.tail()"
   ]
  },
  {
   "cell_type": "markdown",
   "metadata": {},
   "source": [
    "#### identified that are there 2 Null values. Locate the null values and see"
   ]
  },
  {
   "cell_type": "code",
   "execution_count": 195,
   "metadata": {},
   "outputs": [
    {
     "name": "stdout",
     "output_type": "stream",
     "text": [
      "<class 'pandas.core.frame.DataFrame'>\n",
      "RangeIndex: 200 entries, 0 to 199\n",
      "Data columns (total 5 columns):\n",
      " #   Column    Non-Null Count  Dtype  \n",
      "---  ------    --------------  -----  \n",
      " 0   Rank      200 non-null    int64  \n",
      " 1   Score     200 non-null    float64\n",
      " 2   Title     200 non-null    object \n",
      " 3   Genre     198 non-null    object \n",
      " 4   Synopsis  200 non-null    object \n",
      "dtypes: float64(1), int64(1), object(3)\n",
      "memory usage: 7.9+ KB\n"
     ]
    }
   ],
   "source": [
    "df.info()"
   ]
  },
  {
   "cell_type": "code",
   "execution_count": 196,
   "metadata": {},
   "outputs": [],
   "source": [
    "df1 = df[df.isna().any(axis=1)]"
   ]
  },
  {
   "cell_type": "code",
   "execution_count": 197,
   "metadata": {},
   "outputs": [
    {
     "data": {
      "text/html": [
       "<div>\n",
       "<style scoped>\n",
       "    .dataframe tbody tr th:only-of-type {\n",
       "        vertical-align: middle;\n",
       "    }\n",
       "\n",
       "    .dataframe tbody tr th {\n",
       "        vertical-align: top;\n",
       "    }\n",
       "\n",
       "    .dataframe thead th {\n",
       "        text-align: right;\n",
       "    }\n",
       "</style>\n",
       "<table border=\"1\" class=\"dataframe\">\n",
       "  <thead>\n",
       "    <tr style=\"text-align: right;\">\n",
       "      <th></th>\n",
       "      <th>Rank</th>\n",
       "      <th>Score</th>\n",
       "      <th>Title</th>\n",
       "      <th>Genre</th>\n",
       "      <th>Synopsis</th>\n",
       "    </tr>\n",
       "  </thead>\n",
       "  <tbody>\n",
       "    <tr>\n",
       "      <th>58</th>\n",
       "      <td>59</td>\n",
       "      <td>8.7</td>\n",
       "      <td>Arubâto odessei gaiden: Legend of Eldean</td>\n",
       "      <td>NaN</td>\n",
       "      <td>Add a Plot</td>\n",
       "    </tr>\n",
       "    <tr>\n",
       "      <th>159</th>\n",
       "      <td>160</td>\n",
       "      <td>8.4</td>\n",
       "      <td>Dragon Force</td>\n",
       "      <td>NaN</td>\n",
       "      <td>Add a Plot</td>\n",
       "    </tr>\n",
       "  </tbody>\n",
       "</table>\n",
       "</div>"
      ],
      "text/plain": [
       "     Rank  Score                                     Title Genre    Synopsis\n",
       "58     59    8.7  Arubâto odessei gaiden: Legend of Eldean   NaN  Add a Plot\n",
       "159   160    8.4                              Dragon Force   NaN  Add a Plot"
      ]
     },
     "execution_count": 197,
     "metadata": {},
     "output_type": "execute_result"
    }
   ],
   "source": [
    "df1"
   ]
  },
  {
   "cell_type": "markdown",
   "metadata": {},
   "source": [
    "#### Notice that genre is not specified, hence that is not an issue. Some rows do not have synopsis as well, but it is hard to impute data for synopsis hence we can just continue on."
   ]
  },
  {
   "cell_type": "markdown",
   "metadata": {},
   "source": [
    "### Step 2a: Data pre-processing Transforming Genre to a list of genres"
   ]
  },
  {
   "cell_type": "code",
   "execution_count": 198,
   "metadata": {},
   "outputs": [],
   "source": [
    "df['Genre'] = df['Genre'].map(lambda x: str(x).split(','))\n"
   ]
  },
  {
   "cell_type": "markdown",
   "metadata": {},
   "source": [
    "### Step 2b: Data pre-processing on synopsis. Extracting the key words from the synopsis description."
   ]
  },
  {
   "cell_type": "code",
   "execution_count": 199,
   "metadata": {},
   "outputs": [],
   "source": [
    "\n",
    "key_words = []\n",
    "for index, row in df.iterrows():\n",
    "    synopsis = row['Synopsis']\n",
    "    \n",
    "    # instantiating Rake, by default is uses english stopwords from NLTK\n",
    "    # and discard all puntuation characters\n",
    "    r = Rake()\n",
    "\n",
    "    # extracting the words by passing the text\n",
    "    r.extract_keywords_from_text(synopsis)\n",
    "\n",
    "    # getting the dictionary whith key words and their scores\n",
    "    key_words_dict_scores = r.get_word_degrees()\n",
    "    \n",
    "    # assigning the key words to the new column\n",
    "    key_words.append(list(key_words_dict_scores.keys()))\n",
    "    \n",
    "\n",
    "df.drop(columns = ['Synopsis'], inplace = True)\n",
    "df[\"Key_words\"] = key_words"
   ]
  },
  {
   "cell_type": "code",
   "execution_count": 200,
   "metadata": {},
   "outputs": [
    {
     "data": {
      "text/html": [
       "<div>\n",
       "<style scoped>\n",
       "    .dataframe tbody tr th:only-of-type {\n",
       "        vertical-align: middle;\n",
       "    }\n",
       "\n",
       "    .dataframe tbody tr th {\n",
       "        vertical-align: top;\n",
       "    }\n",
       "\n",
       "    .dataframe thead th {\n",
       "        text-align: right;\n",
       "    }\n",
       "</style>\n",
       "<table border=\"1\" class=\"dataframe\">\n",
       "  <thead>\n",
       "    <tr style=\"text-align: right;\">\n",
       "      <th></th>\n",
       "      <th>Rank</th>\n",
       "      <th>Score</th>\n",
       "      <th>Title</th>\n",
       "      <th>Genre</th>\n",
       "      <th>Key_words</th>\n",
       "    </tr>\n",
       "  </thead>\n",
       "  <tbody>\n",
       "    <tr>\n",
       "      <th>0</th>\n",
       "      <td>1</td>\n",
       "      <td>9.3</td>\n",
       "      <td>Avatar: The Last Airbender</td>\n",
       "      <td>[Animation,  Action,  Adventure]</td>\n",
       "      <td>[fulfill, world, elemental, magic, dangerous, ...</td>\n",
       "    </tr>\n",
       "    <tr>\n",
       "      <th>1</th>\n",
       "      <td>2</td>\n",
       "      <td>9.3</td>\n",
       "      <td>Gintama: The Final</td>\n",
       "      <td>[Animation,  Action,  Comedy]</td>\n",
       "      <td>[add, plot]</td>\n",
       "    </tr>\n",
       "    <tr>\n",
       "      <th>2</th>\n",
       "      <td>3</td>\n",
       "      <td>9.3</td>\n",
       "      <td>Chris Chan: A Comprehensive History</td>\n",
       "      <td>[Documentary,  Biography,  History]</td>\n",
       "      <td>[documentary, series, internet, sensation, chr...</td>\n",
       "    </tr>\n",
       "    <tr>\n",
       "      <th>3</th>\n",
       "      <td>4</td>\n",
       "      <td>9.2</td>\n",
       "      <td>Gintama: The Semi-Final</td>\n",
       "      <td>[Animation,  Action,  Comedy]</td>\n",
       "      <td>[finale, everyone, quick, look, gintama]</td>\n",
       "    </tr>\n",
       "    <tr>\n",
       "      <th>4</th>\n",
       "      <td>5</td>\n",
       "      <td>9.1</td>\n",
       "      <td>Hagane no renkinjutsushi</td>\n",
       "      <td>[Animation,  Action,  Adventure]</td>\n",
       "      <td>[two, brothers, search, philosopher, revive, d...</td>\n",
       "    </tr>\n",
       "  </tbody>\n",
       "</table>\n",
       "</div>"
      ],
      "text/plain": [
       "   Rank  Score                                Title  \\\n",
       "0     1    9.3           Avatar: The Last Airbender   \n",
       "1     2    9.3                   Gintama: The Final   \n",
       "2     3    9.3  Chris Chan: A Comprehensive History   \n",
       "3     4    9.2              Gintama: The Semi-Final   \n",
       "4     5    9.1             Hagane no renkinjutsushi   \n",
       "\n",
       "                                 Genre  \\\n",
       "0     [Animation,  Action,  Adventure]   \n",
       "1        [Animation,  Action,  Comedy]   \n",
       "2  [Documentary,  Biography,  History]   \n",
       "3        [Animation,  Action,  Comedy]   \n",
       "4     [Animation,  Action,  Adventure]   \n",
       "\n",
       "                                           Key_words  \n",
       "0  [fulfill, world, elemental, magic, dangerous, ...  \n",
       "1                                        [add, plot]  \n",
       "2  [documentary, series, internet, sensation, chr...  \n",
       "3           [finale, everyone, quick, look, gintama]  \n",
       "4  [two, brothers, search, philosopher, revive, d...  "
      ]
     },
     "execution_count": 200,
     "metadata": {},
     "output_type": "execute_result"
    }
   ],
   "source": [
    "df.head()"
   ]
  },
  {
   "cell_type": "markdown",
   "metadata": {},
   "source": [
    "### Step 3: Create word representation - via bag of words using the values from the columns"
   ]
  },
  {
   "cell_type": "code",
   "execution_count": 201,
   "metadata": {},
   "outputs": [],
   "source": [
    "bag_of_words= []\n",
    "#Title, rank & score should be omitted from bag of words creation\n",
    "columns = df.columns[3:]\n",
    "\n",
    "for index, row in df.iterrows():\n",
    "    words = ''\n",
    "    for col in columns:\n",
    "        words = words + ' '.join(row[col])+ ' '\n",
    "    bag_of_words.append(words)\n",
    "    \n",
    "# print(bag_of_words)\n",
    "df[\"Bag_of_Words\"] = bag_of_words\n",
    "df = df[['Title','Bag_of_Words']]"
   ]
  },
  {
   "cell_type": "code",
   "execution_count": 202,
   "metadata": {},
   "outputs": [
    {
     "data": {
      "text/html": [
       "<div>\n",
       "<style scoped>\n",
       "    .dataframe tbody tr th:only-of-type {\n",
       "        vertical-align: middle;\n",
       "    }\n",
       "\n",
       "    .dataframe tbody tr th {\n",
       "        vertical-align: top;\n",
       "    }\n",
       "\n",
       "    .dataframe thead th {\n",
       "        text-align: right;\n",
       "    }\n",
       "</style>\n",
       "<table border=\"1\" class=\"dataframe\">\n",
       "  <thead>\n",
       "    <tr style=\"text-align: right;\">\n",
       "      <th></th>\n",
       "      <th>Title</th>\n",
       "      <th>Bag_of_Words</th>\n",
       "    </tr>\n",
       "  </thead>\n",
       "  <tbody>\n",
       "    <tr>\n",
       "      <th>0</th>\n",
       "      <td>Avatar: The Last Airbender</td>\n",
       "      <td>Animation  Action  Adventure fulfill world ele...</td>\n",
       "    </tr>\n",
       "    <tr>\n",
       "      <th>1</th>\n",
       "      <td>Gintama: The Final</td>\n",
       "      <td>Animation  Action  Comedy add plot</td>\n",
       "    </tr>\n",
       "    <tr>\n",
       "      <th>2</th>\n",
       "      <td>Chris Chan: A Comprehensive History</td>\n",
       "      <td>Documentary  Biography  History documentary se...</td>\n",
       "    </tr>\n",
       "    <tr>\n",
       "      <th>3</th>\n",
       "      <td>Gintama: The Semi-Final</td>\n",
       "      <td>Animation  Action  Comedy finale everyone quic...</td>\n",
       "    </tr>\n",
       "    <tr>\n",
       "      <th>4</th>\n",
       "      <td>Hagane no renkinjutsushi</td>\n",
       "      <td>Animation  Action  Adventure two brothers sear...</td>\n",
       "    </tr>\n",
       "  </tbody>\n",
       "</table>\n",
       "</div>"
      ],
      "text/plain": [
       "                                 Title  \\\n",
       "0           Avatar: The Last Airbender   \n",
       "1                   Gintama: The Final   \n",
       "2  Chris Chan: A Comprehensive History   \n",
       "3              Gintama: The Semi-Final   \n",
       "4             Hagane no renkinjutsushi   \n",
       "\n",
       "                                        Bag_of_Words  \n",
       "0  Animation  Action  Adventure fulfill world ele...  \n",
       "1                Animation  Action  Comedy add plot   \n",
       "2  Documentary  Biography  History documentary se...  \n",
       "3  Animation  Action  Comedy finale everyone quic...  \n",
       "4  Animation  Action  Adventure two brothers sear...  "
      ]
     },
     "execution_count": 202,
     "metadata": {},
     "output_type": "execute_result"
    }
   ],
   "source": [
    "df.head()"
   ]
  },
  {
   "cell_type": "markdown",
   "metadata": {},
   "source": [
    "### Step 4: Create the model using count metrics"
   ]
  },
  {
   "cell_type": "code",
   "execution_count": 203,
   "metadata": {},
   "outputs": [
    {
     "data": {
      "text/plain": [
       "0             Avatar: The Last Airbender\n",
       "1                     Gintama: The Final\n",
       "2    Chris Chan: A Comprehensive History\n",
       "3                Gintama: The Semi-Final\n",
       "4               Hagane no renkinjutsushi\n",
       "Name: Title, dtype: object"
      ]
     },
     "execution_count": 203,
     "metadata": {},
     "output_type": "execute_result"
    }
   ],
   "source": [
    "# instantiating and generating the count matrix\n",
    "count = CountVectorizer()\n",
    "count_matrix = count.fit_transform(df['Bag_of_Words'])\n",
    "\n",
    "# creating a Series for the movie titles so they are associated to an ordered numerical\n",
    "# list that can be used to match the indexes\n",
    "indices = pd.Series(df['Title'])\n",
    "indices[:5]"
   ]
  },
  {
   "cell_type": "markdown",
   "metadata": {},
   "source": [
    "**Generating the consine similarity matrix**"
   ]
  },
  {
   "cell_type": "code",
   "execution_count": 204,
   "metadata": {},
   "outputs": [
    {
     "name": "stdout",
     "output_type": "stream",
     "text": [
      "[[1.         0.2        0.         ... 0.06741999 0.12909944 0.12909944]\n",
      " [0.2        1.         0.         ... 0.13483997 0.38729833 0.25819889]\n",
      " [0.         0.         1.         ... 0.         0.         0.        ]\n",
      " ...\n",
      " [0.06741999 0.13483997 0.         ... 1.         0.08703883 0.08703883]\n",
      " [0.12909944 0.38729833 0.         ... 0.08703883 1.         0.16666667]\n",
      " [0.12909944 0.25819889 0.         ... 0.08703883 0.16666667 1.        ]]\n"
     ]
    }
   ],
   "source": [
    "# generating the cosine similarity matrix\n",
    "cosine_sim = cosine_similarity(count_matrix, count_matrix)\n",
    "print(cosine_sim)"
   ]
  },
  {
   "cell_type": "markdown",
   "metadata": {},
   "source": [
    "### Step 5: Test and run the model (recommender)"
   ]
  },
  {
   "cell_type": "markdown",
   "metadata": {},
   "source": [
    "**Create the recommendation function**"
   ]
  },
  {
   "cell_type": "code",
   "execution_count": 205,
   "metadata": {},
   "outputs": [],
   "source": [
    "# function that takes in movie title as input and returns the top 10 recommended movies\n",
    "def recommendations(title, cosine_sim = cosine_sim):\n",
    "    \n",
    "    recommended_movies = []\n",
    "    \n",
    "    # getting the index of the movie that matches the title\n",
    "    idx = indices[indices == title].index[0]\n",
    "\n",
    "    # creating a Series with the similarity scores in descending order\n",
    "    score_series = pd.Series(cosine_sim[idx]).sort_values(ascending = False)\n",
    "\n",
    "    # getting the indexes of the 10 most similar movies\n",
    "    top_10_indexes = list(score_series.iloc[1:11].index)\n",
    "    \n",
    "    # populating the list with the titles of the best 10 matching movies\n",
    "    for i in top_10_indexes:\n",
    "        recommended_movies.append(list(df['Title'])[i])\n",
    "        \n",
    "    return recommended_movies"
   ]
  },
  {
   "cell_type": "code",
   "execution_count": 187,
   "metadata": {},
   "outputs": [
    {
     "data": {
      "text/plain": [
       "['Girls und Panzer das Finale: Part III',\n",
       " 'Strongbad_email.exe: Disc Four',\n",
       " 'The Legend of the Galactic Heroes: Die Neue These - Seiran 3',\n",
       " 'Uchûsen Sajitteriasu',\n",
       " 'Arubâto odessei gaiden: Legend of Eldean',\n",
       " 'Dragon Force',\n",
       " 'Zorori the Naughty Hero: The secret of ZZ',\n",
       " 'Gintama: The Semi-Final',\n",
       " 'One Punch Man: Wanpanman',\n",
       " 'Initial D: First Stage']"
      ]
     },
     "execution_count": 187,
     "metadata": {},
     "output_type": "execute_result"
    }
   ],
   "source": [
    "recommendations('Gintama: The Final')"
   ]
  },
  {
   "cell_type": "markdown",
   "metadata": {},
   "source": [
    "#### Jujutsu Kaisen was such a massive hit and i really enjoyed it. Now im suffering from jujutsu kaisen withdrawl symptoms and i'm looking for another anime similar to it"
   ]
  },
  {
   "cell_type": "code",
   "execution_count": 206,
   "metadata": {},
   "outputs": [
    {
     "data": {
      "text/plain": [
       "['Initial D: First Stage',\n",
       " 'Gekijouban Poketto monsutâ: koko',\n",
       " 'Boku no hîrô akademia',\n",
       " 'Rurôni Kenshin - Meiji kenkaku romantan',\n",
       " 'Meitantei Conan',\n",
       " 'Kaubôi bibappu',\n",
       " 'Doragon kuesuto: Dai no daibouken',\n",
       " 'Rurouni Kenshin: Meiji Kenkaku Romantan: Tsuioku Hen',\n",
       " 'Kyaputen Tsubasa',\n",
       " 'Shingeki no Kyojin: Chronicle']"
      ]
     },
     "execution_count": 206,
     "metadata": {},
     "output_type": "execute_result"
    }
   ],
   "source": [
    "recommendations('Jujutsu Kaisen')"
   ]
  },
  {
   "cell_type": "markdown",
   "metadata": {},
   "source": [
    "**Output shows the recommendations based on the input sorted from descending rating**"
   ]
  },
  {
   "cell_type": "code",
   "execution_count": 207,
   "metadata": {},
   "outputs": [
    {
     "data": {
      "text/plain": [
       "['Doragon kuesuto: Dai no daibouken',\n",
       " 'Gekijouban Poketto monsutâ: koko',\n",
       " 'Invincible',\n",
       " 'Meitantei Conan',\n",
       " 'Kaubôi bibappu',\n",
       " 'Shingeki no Kyojin: Chronicle',\n",
       " 'Kyaputen Tsubasa',\n",
       " 'Rurouni Kenshin: Meiji Kenkaku Romantan: Tsuioku Hen',\n",
       " 'Hunter x Hunter',\n",
       " 'Ninja Senshi Tobikage']"
      ]
     },
     "execution_count": 207,
     "metadata": {},
     "output_type": "execute_result"
    }
   ],
   "source": [
    "recommendations('Boku no hîrô akademia')"
   ]
  },
  {
   "cell_type": "code",
   "execution_count": null,
   "metadata": {},
   "outputs": [],
   "source": []
  }
 ],
 "metadata": {
  "kernelspec": {
   "display_name": "Python 3",
   "language": "python",
   "name": "python3"
  },
  "language_info": {
   "codemirror_mode": {
    "name": "ipython",
    "version": 3
   },
   "file_extension": ".py",
   "mimetype": "text/x-python",
   "name": "python",
   "nbconvert_exporter": "python",
   "pygments_lexer": "ipython3",
   "version": "3.8.5"
  }
 },
 "nbformat": 4,
 "nbformat_minor": 4
}
